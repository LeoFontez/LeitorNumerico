notas=[]
x = 0

while x != -1:
  x = float(input("Digite uma nota ou -1 para finalizar o programa: "))
  if x != -1:
    notas.append(x)

print("\nA quantidade de valores que foram lidos é: ", len(notas))

print("Valores na ordem em que foram informados: ", notas)

print("Valores na ordem inversa um abaixo do outro: ")
for nota in range(len(notas)-1,-1,-1):
  print(notas[nota])

print("A soma dos valores é : ", sum(notas))

media = (sum(notas))/len(notas)
print("A media dos valores é : ", media)

print("A quantidade de valores acima da média são:", end=" ")
acimaDaMedia = 0
for nota in notas:
  if nota > media:
    acimaDaMedia +=1
print(acimaDaMedia)

print("A quantidade de valores abaixo de 7 são:", end=" ")
abaixoDeSete = 0
for nota in notas:
  if nota < 7:
    abaixoDeSete +=1
print(abaixoDeSete)

print("Programa Encerrado!")
